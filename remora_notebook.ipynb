{
 "cells": [
  {
   "cell_type": "code",
   "execution_count": null,
   "id": "6d16871a",
   "metadata": {},
   "outputs": [],
   "source": [
    "rm(list = ls())"
   ]
  },
  {
   "cell_type": "code",
   "execution_count": null,
   "id": "21944f44",
   "metadata": {},
   "outputs": [],
   "source": [
    "ls()"
   ]
  },
  {
   "cell_type": "code",
   "execution_count": null,
   "id": "d28259b4",
   "metadata": {},
   "outputs": [],
   "source": [
    "devtools::install_github('ocean-tracking-network/remora', force=TRUE, dependencies = FALSE)"
   ]
  },
  {
   "cell_type": "code",
   "execution_count": null,
   "id": "d6e7d439",
   "metadata": {},
   "outputs": [],
   "source": [
    "devtools::install_github('ocean-tracking-network/surimi', force=TRUE, dependencies = FALSE)"
   ]
  },
  {
   "cell_type": "code",
   "execution_count": null,
   "id": "c754397e",
   "metadata": {},
   "outputs": [],
   "source": [
    "library(devtools)\n",
    "library(httr2)\n",
    "library(dplyr)\n",
    "library(raster)\n",
    "library(readr)\n",
    "library(terra)\n",
    "library(tidyverse)\n",
    "library(sf)\n",
    "library(sp)\n",
    "library(raster)\n",
    "library(stars)\n",
    "library(glatos)\n",
    "library(utils)\n",
    "library(geosphere)\n",
    "library(rangeBuilder)"
   ]
  },
  {
   "cell_type": "code",
   "execution_count": null,
   "id": "bf13f953",
   "metadata": {
    "scrolled": true
   },
   "outputs": [],
   "source": [
    "library(remora)\n",
    "library(surimi)"
   ]
  },
  {
   "cell_type": "code",
   "execution_count": null,
   "id": "7347a8d8",
   "metadata": {},
   "outputs": [],
   "source": [
    "#otn_files <- list(det = \"testDataOTN/cobia/cobia_subset_export.csv\")\n",
    "otn_files <- list(det = \"./testDataOTN/ugaaci_matched_detections_2017.csv\")"
   ]
  },
  {
   "cell_type": "code",
   "execution_count": null,
   "id": "c0386dd9",
   "metadata": {},
   "outputs": [],
   "source": [
    "world_raster <- raster::raster(\"./testDataOTN/NE2_50M_SR.tif\")"
   ]
  },
  {
   "cell_type": "code",
   "execution_count": null,
   "id": "b325df79",
   "metadata": {},
   "outputs": [],
   "source": [
    "plot(world_raster)"
   ]
  },
  {
   "cell_type": "code",
   "execution_count": null,
   "id": "3b7a6b32",
   "metadata": {},
   "outputs": [],
   "source": [
    "scientific_name <- \"Acipenser oxyrinchus\""
   ]
  },
  {
   "cell_type": "code",
   "execution_count": null,
   "id": "c238ec9f",
   "metadata": {},
   "outputs": [],
   "source": [
    "speciesOccurrence <- getOccurrence(scientific_name)"
   ]
  },
  {
   "cell_type": "code",
   "execution_count": null,
   "id": "c133fff0",
   "metadata": {},
   "outputs": [],
   "source": [
    "speciesPolygon <- createPolygon(speciesOccurrence, fraction=1, partsCount=1, buff=100000, clipToCoast = \"aquatic\")"
   ]
  },
  {
   "cell_type": "code",
   "execution_count": null,
   "id": "0e422fc3",
   "metadata": {},
   "outputs": [],
   "source": [
    "plot(speciesPolygon)"
   ]
  },
  {
   "cell_type": "code",
   "execution_count": null,
   "id": "1b30f129",
   "metadata": {},
   "outputs": [],
   "source": [
    "tests_vector <-  c(\"FDA_QC\",\n",
    "                   \"Velocity_QC\",\n",
    "                   \"Distance_QC\",\n",
    "                   \"DetectionDistribution_QC\",\n",
    "                   \"DistanceRelease_QC\",\n",
    "                   \"ReleaseDate_QC\",\n",
    "                   \"ReleaseLocation_QC\",\n",
    "                   \"Detection_QC\")"
   ]
  },
  {
   "cell_type": "code",
   "execution_count": null,
   "id": "d4c9e6f4",
   "metadata": {},
   "outputs": [],
   "source": [
    "otn_test_tag_qc <- runQC(otn_files, \n",
    "                         data_format = \"otn\", \n",
    "                         tests_vector = tests_vector, \n",
    "                         shapefile = speciesPolygon, \n",
    "                         col_spec = NULL, \n",
    "                         fda_type = \"pincock\", \n",
    "                         rollup = TRUE,\n",
    "                         .parallel = FALSE, .progress = TRUE)"
   ]
  },
  {
   "cell_type": "code",
   "execution_count": null,
   "id": "af0418dd",
   "metadata": {},
   "outputs": [],
   "source": [
    "otn_test_tag_qc"
   ]
  },
  {
   "cell_type": "code",
   "execution_count": null,
   "id": "a10294ff",
   "metadata": {},
   "outputs": [],
   "source": [
    "write.csv(otn_test_tag_qc, \"notebook_output_test.csv\")"
   ]
  },
  {
   "cell_type": "code",
   "execution_count": null,
   "id": "194507ee",
   "metadata": {},
   "outputs": [],
   "source": [
    "writeQC(otn_test_tag_qc, aggregate = TRUE)"
   ]
  }
 ],
 "metadata": {
  "kernelspec": {
   "display_name": "R",
   "language": "R",
   "name": "ir"
  },
  "language_info": {
   "codemirror_mode": "r",
   "file_extension": ".r",
   "mimetype": "text/x-r-source",
   "name": "R",
   "pygments_lexer": "r",
   "version": "4.2.2"
  }
 },
 "nbformat": 4,
 "nbformat_minor": 5
}
