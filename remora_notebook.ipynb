{
 "cells": [
  {
   "cell_type": "code",
   "execution_count": 1,
   "id": "6d16871a",
   "metadata": {},
   "outputs": [],
   "source": [
    "rm(list = ls())"
   ]
  },
  {
   "cell_type": "code",
   "execution_count": 2,
   "id": "21944f44",
   "metadata": {},
   "outputs": [
    {
     "data": {
      "text/html": [],
      "text/latex": [],
      "text/markdown": [],
      "text/plain": [
       "character(0)"
      ]
     },
     "metadata": {},
     "output_type": "display_data"
    }
   ],
   "source": [
    "ls()"
   ]
  },
  {
   "cell_type": "code",
   "execution_count": 3,
   "id": "d28259b4",
   "metadata": {},
   "outputs": [
    {
     "name": "stderr",
     "output_type": "stream",
     "text": [
      "Downloading GitHub repo ocean-tracking-network/remora@HEAD\n",
      "\n"
     ]
    },
    {
     "name": "stdout",
     "output_type": "stream",
     "text": [
      "\u001b[32m✔\u001b[39m  \u001b[90mchecking for file ‘/private/var/folders/k9/ks9pmd_17kgdvnmlzg6hdcph0000gn/T/RtmpAHia81/remotesa4634461748e/ocean-tracking-network-remora-d9cebd8/DESCRIPTION’\u001b[39m\u001b[36m\u001b[39m\n",
      "\u001b[90m─\u001b[39m\u001b[90m  \u001b[39m\u001b[90mpreparing ‘remora’:\u001b[39m\u001b[36m\u001b[39m\n",
      "\u001b[32m✔\u001b[39m  \u001b[90mchecking DESCRIPTION meta-information\u001b[39m\u001b[36m\u001b[39m\n",
      "\u001b[90m─\u001b[39m\u001b[90m  \u001b[39m\u001b[90mchecking for LF line-endings in source and make files and shell scripts\u001b[39m\u001b[36m\u001b[39m\n",
      "\u001b[90m─\u001b[39m\u001b[90m  \u001b[39m\u001b[90mchecking for empty or unneeded directories\u001b[39m\u001b[36m\u001b[39m\n",
      "\u001b[90m─\u001b[39m\u001b[90m  \u001b[39m\u001b[90mbuilding ‘remora_0.9.0.9880.tar.gz’\u001b[39m\u001b[36m\u001b[39m\n",
      "   \n",
      "\r"
     ]
    }
   ],
   "source": [
    "devtools::install_github('ocean-tracking-network/remora', force=TRUE, dependencies = FALSE)"
   ]
  },
  {
   "cell_type": "code",
   "execution_count": 4,
   "id": "d6e7d439",
   "metadata": {},
   "outputs": [
    {
     "name": "stderr",
     "output_type": "stream",
     "text": [
      "Downloading GitHub repo ocean-tracking-network/surimi@HEAD\n",
      "\n"
     ]
    },
    {
     "name": "stdout",
     "output_type": "stream",
     "text": [
      "\u001b[32m✔\u001b[39m  \u001b[90mchecking for file ‘/private/var/folders/k9/ks9pmd_17kgdvnmlzg6hdcph0000gn/T/RtmpAHia81/remotesa4634c49dd4b/ocean-tracking-network-surimi-bdd9ecd/DESCRIPTION’\u001b[39m\u001b[36m\u001b[39m\n",
      "\u001b[90m─\u001b[39m\u001b[90m  \u001b[39m\u001b[90mpreparing ‘surimi’:\u001b[39m\u001b[36m\u001b[39m\n",
      "\u001b[32m✔\u001b[39m  \u001b[90mchecking DESCRIPTION meta-information\u001b[39m\u001b[36m\u001b[39m\n",
      "\u001b[90m─\u001b[39m\u001b[90m  \u001b[39m\u001b[90mchecking for LF line-endings in source and make files and shell scripts\u001b[39m\u001b[36m\u001b[39m\n",
      "\u001b[90m─\u001b[39m\u001b[90m  \u001b[39m\u001b[90mchecking for empty or unneeded directories\u001b[39m\u001b[36m\u001b[39m\n",
      "\u001b[90m─\u001b[39m\u001b[90m  \u001b[39m\u001b[90mbuilding ‘surimi_0.0.0.1.tar.gz’\u001b[39m\u001b[36m\u001b[39m\n",
      "   \n",
      "\r"
     ]
    }
   ],
   "source": [
    "devtools::install_github('ocean-tracking-network/surimi', force=TRUE, dependencies = FALSE)"
   ]
  },
  {
   "cell_type": "code",
   "execution_count": 8,
   "id": "c754397e",
   "metadata": {},
   "outputs": [
    {
     "name": "stderr",
     "output_type": "stream",
     "text": [
      "terra 1.7.65\n",
      "\n",
      "── \u001b[1mAttaching core tidyverse packages\u001b[22m ────────────────────────────────────────────────────────────────────────────────────────────────────────────────────────────────────────────────────────────── tidyverse 2.0.0 ──\n",
      "\u001b[32m✔\u001b[39m \u001b[34mdplyr    \u001b[39m 1.1.4     \u001b[32m✔\u001b[39m \u001b[34mpurrr    \u001b[39m 1.0.2\n",
      "\u001b[32m✔\u001b[39m \u001b[34mforcats  \u001b[39m 1.0.0     \u001b[32m✔\u001b[39m \u001b[34mstringr  \u001b[39m 1.5.1\n",
      "\u001b[32m✔\u001b[39m \u001b[34mggplot2  \u001b[39m 3.5.0     \u001b[32m✔\u001b[39m \u001b[34mtibble   \u001b[39m 3.2.1\n",
      "\u001b[32m✔\u001b[39m \u001b[34mlubridate\u001b[39m 1.9.3     \u001b[32m✔\u001b[39m \u001b[34mtidyr    \u001b[39m 1.3.0\n",
      "── \u001b[1mConflicts\u001b[22m ──────────────────────────────────────────────────────────────────────────────────────────────────────────────────────────────────────────────────────────────────────────────── tidyverse_conflicts() ──\n",
      "\u001b[31m✖\u001b[39m \u001b[34mtidyr\u001b[39m::\u001b[32mextract()\u001b[39m masks \u001b[34mterra\u001b[39m::extract()\n",
      "\u001b[31m✖\u001b[39m \u001b[34mdplyr\u001b[39m::\u001b[32mfilter()\u001b[39m  masks \u001b[34mstats\u001b[39m::filter()\n",
      "\u001b[31m✖\u001b[39m \u001b[34mdplyr\u001b[39m::\u001b[32mlag()\u001b[39m     masks \u001b[34mstats\u001b[39m::lag()\n",
      "\u001b[36mℹ\u001b[39m Use the conflicted package (\u001b[3m\u001b[34m<http://conflicted.r-lib.org/>\u001b[39m\u001b[23m) to force all conflicts to become errors\n",
      "Linking to GEOS 3.10.2, GDAL 3.4.2, PROJ 8.2.1; sf_use_s2() is TRUE\n",
      "\n",
      "\n",
      "Attaching package: ‘raster’\n",
      "\n",
      "\n",
      "The following object is masked from ‘package:dplyr’:\n",
      "\n",
      "    select\n",
      "\n",
      "\n",
      "Loading required package: abind\n",
      "\n",
      "version 0.8.0.9004 ('very-refreshing-lemonade')\n",
      "\n"
     ]
    }
   ],
   "source": [
    "library(parallel)\n",
    "library(surimi)\n",
    "library(readr)\n",
    "library(terra)\n",
    "library(tidyverse)\n",
    "library(sf)\n",
    "library(sp)\n",
    "library(raster)\n",
    "library(stars)\n",
    "library(glatos)\n",
    "library(utils)\n",
    "library(geosphere)\n",
    "library(rangeBuilder)\n",
    "library(remora)"
   ]
  },
  {
   "cell_type": "code",
   "execution_count": 6,
   "id": "bf13f953",
   "metadata": {
    "scrolled": true
   },
   "outputs": [
    {
     "name": "stderr",
     "output_type": "stream",
     "text": [
      "\n",
      "Attaching package: ‘surimi’\n",
      "\n",
      "\n",
      "The following objects are masked from ‘package:remora’:\n",
      "\n",
      "    imos_otn_column_map, imos_to_otn_receivers, imos_to_otn_tags\n",
      "\n",
      "\n"
     ]
    }
   ],
   "source": [
    "library(remora)\n",
    "library(surimi)"
   ]
  },
  {
   "cell_type": "code",
   "execution_count": 11,
   "id": "7347a8d8",
   "metadata": {},
   "outputs": [],
   "source": [
    "#otn_files <- list(det = \"testDataOTN/cobia/cobia_subset_export.csv\")\n",
    "otn_files <- list(det = \"/Users/bruce/Downloads/cobcrp-all-years-matched-detections/cobcrp_matched_detections_2015/cobcrp_matched_detections_2015.csv\")"
   ]
  },
  {
   "cell_type": "code",
   "execution_count": 9,
   "id": "1b30f129",
   "metadata": {},
   "outputs": [],
   "source": [
    "tests_vector <-  c(\"FDA_QC\",\n",
    "                   #\"Velocity_QC\",\n",
    "                   #\"Distance_QC\",\n",
    "                   #\"DetectionDistribution_QC\",\n",
    "                   \"DistanceRelease_QC\",\n",
    "                   \"ReleaseDate_QC\",\n",
    "                   #\"ReleaseLocation_QC\",\n",
    "                   \"Detection_QC\")"
   ]
  },
  {
   "cell_type": "code",
   "execution_count": 12,
   "id": "d4c9e6f4",
   "metadata": {},
   "outputs": [
    {
     "name": "stderr",
     "output_type": "stream",
     "text": [
      "Reading data...\n",
      "\n",
      "\u001b[1mRows: \u001b[22m\u001b[34m2262\u001b[39m \u001b[1mColumns: \u001b[22m\u001b[34m34\u001b[39m\n",
      "\u001b[36m──\u001b[39m \u001b[1mColumn specification\u001b[22m \u001b[36m──────────────────────────────────────────────────────────────────────────────────────────────────────────────────────────────────────────────────────────────────────────────────────────────\u001b[39m\n",
      "\u001b[1mDelimiter:\u001b[22m \",\"\n",
      "\u001b[31mchr\u001b[39m  (18): collectioncode, catalognumber, scientificname, commonname, detect...\n",
      "\u001b[32mdbl\u001b[39m   (9): bottom_depth, receiver_depth, longitude, latitude, yearcollected,...\n",
      "\u001b[33mlgl\u001b[39m   (5): sensorname, sensorraw, sensorvalue, sensorunit, notes\n",
      "\u001b[34mdttm\u001b[39m  (1): datecollected\n",
      "\u001b[34mdate\u001b[39m  (1): datelastmodified\n",
      "\n",
      "\u001b[36mℹ\u001b[39m Use `spec()` to retrieve the full column specification for this data.\n",
      "\u001b[36mℹ\u001b[39m Specify the column types or set `show_col_types = FALSE` to quiet this message.\n",
      "Deriving receiver dataframe...\n",
      "\n",
      "Deriving tag dataframe...\n",
      "\n",
      "Number of releases:\n",
      "\n",
      "6\n",
      "\n",
      "Warning message:\n",
      "“No missing IDs found in tag metadata.”\n",
      "rec_meta is not null\n",
      "\n",
      "tag meta is not null\n",
      "\n",
      "Starting sequential QC...\n",
      "\n"
     ]
    },
    {
     "name": "stdout",
     "output_type": "stream",
     "text": [
      "\r",
      "file: A69-9001-23376_COBCRP-0-20171019_COBCRP-0-20171019, 1 of 6    "
     ]
    },
    {
     "name": "stderr",
     "output_type": "stream",
     "text": [
      "Starting OTN QC\n",
      "\n",
      "A69-9001-23376_COBCRP-0-20171019_COBCRP-0-20171019\n",
      "\n",
      "WARNING: No shapefile supplied. Some tests may not run.\n",
      "\n",
      "Conversion done.\n",
      "\n",
      "The filter identified 1 (100%) of 1 detections as potentially false.\n",
      "\n",
      "The filter identified 0 (0%) of 12 detections as potentially false.\n",
      "\n",
      "The filter identified 18 (1.97%) of 916 detections as potentially false.\n",
      "\n",
      "Dist/velocity tests done.\n",
      "\n",
      "Necessary columns present.\n",
      "\n",
      "distGeo done.\n",
      "\n",
      "transmitter_deployment_datetime column exists.\n",
      "\n"
     ]
    },
    {
     "name": "stdout",
     "output_type": "stream",
     "text": [
      "[1] \"Running detection QC\"\n"
     ]
    },
    {
     "name": "stderr",
     "output_type": "stream",
     "text": [
      "Using percentage aggregation\n",
      "\n",
      "Done and returning\n",
      "\n"
     ]
    },
    {
     "name": "stdout",
     "output_type": "stream",
     "text": [
      "\r",
      "file: A69-9001-23375_COBCRP-1-20171019_COBCRP-1-20171019, 2 of 6    "
     ]
    },
    {
     "name": "stderr",
     "output_type": "stream",
     "text": [
      "Starting OTN QC\n",
      "\n",
      "A69-9001-23375_COBCRP-1-20171019_COBCRP-1-20171019\n",
      "\n",
      "WARNING: No shapefile supplied. Some tests may not run.\n",
      "\n",
      "Conversion done.\n",
      "\n",
      "The filter identified 1 (100%) of 1 detections as potentially false.\n",
      "\n",
      "The filter identified 1 (2.7%) of 37 detections as potentially false.\n",
      "\n",
      "Dist/velocity tests done.\n",
      "\n",
      "Necessary columns present.\n",
      "\n",
      "distGeo done.\n",
      "\n",
      "transmitter_deployment_datetime column exists.\n",
      "\n"
     ]
    },
    {
     "name": "stdout",
     "output_type": "stream",
     "text": [
      "[1] \"Running detection QC\"\n"
     ]
    },
    {
     "name": "stderr",
     "output_type": "stream",
     "text": [
      "Using percentage aggregation\n",
      "\n",
      "Done and returning\n",
      "\n"
     ]
    },
    {
     "name": "stdout",
     "output_type": "stream",
     "text": [
      "\r",
      "file: A69-9001-23438_COBCRP-130-20171019_COBCRP-130-20171019, 3 of 6    "
     ]
    },
    {
     "name": "stderr",
     "output_type": "stream",
     "text": [
      "Starting OTN QC\n",
      "\n",
      "A69-9001-23438_COBCRP-130-20171019_COBCRP-130-20171019\n",
      "\n",
      "WARNING: No shapefile supplied. Some tests may not run.\n",
      "\n",
      "Conversion done.\n",
      "\n",
      "The filter identified 1 (100%) of 1 detections as potentially false.\n",
      "\n",
      "The filter identified 10 (2.18%) of 459 detections as potentially false.\n",
      "\n",
      "Dist/velocity tests done.\n",
      "\n",
      "Necessary columns present.\n",
      "\n",
      "distGeo done.\n",
      "\n",
      "transmitter_deployment_datetime column exists.\n",
      "\n"
     ]
    },
    {
     "name": "stdout",
     "output_type": "stream",
     "text": [
      "[1] \"Running detection QC\"\n"
     ]
    },
    {
     "name": "stderr",
     "output_type": "stream",
     "text": [
      "Using percentage aggregation\n",
      "\n",
      "Done and returning\n",
      "\n"
     ]
    },
    {
     "name": "stdout",
     "output_type": "stream",
     "text": [
      "\r",
      "file: A69-9001-23377_COBCRP-2-20171019_COBCRP-2-20171019, 4 of 6    "
     ]
    },
    {
     "name": "stderr",
     "output_type": "stream",
     "text": [
      "Starting OTN QC\n",
      "\n",
      "Dataframe must have more than one row for QC.\n",
      "\n"
     ]
    },
    {
     "name": "stdout",
     "output_type": "stream",
     "text": [
      "\r",
      "file: A69-9001-23378_COBCRP-3-20171019_COBCRP-3-20171019, 5 of 6    "
     ]
    },
    {
     "name": "stderr",
     "output_type": "stream",
     "text": [
      "Starting OTN QC\n",
      "\n",
      "A69-9001-23378_COBCRP-3-20171019_COBCRP-3-20171019\n",
      "\n",
      "WARNING: No shapefile supplied. Some tests may not run.\n",
      "\n",
      "Conversion done.\n",
      "\n",
      "The filter identified 1 (100%) of 1 detections as potentially false.\n",
      "\n",
      "The filter identified 11 (1.49%) of 737 detections as potentially false.\n",
      "\n",
      "Dist/velocity tests done.\n",
      "\n",
      "Necessary columns present.\n",
      "\n",
      "distGeo done.\n",
      "\n",
      "transmitter_deployment_datetime column exists.\n",
      "\n"
     ]
    },
    {
     "name": "stdout",
     "output_type": "stream",
     "text": [
      "[1] \"Running detection QC\"\n"
     ]
    },
    {
     "name": "stderr",
     "output_type": "stream",
     "text": [
      "Using percentage aggregation\n",
      "\n",
      "Done and returning\n",
      "\n"
     ]
    },
    {
     "name": "stdout",
     "output_type": "stream",
     "text": [
      "\r",
      "file: A69-9001-23379_COBCRP-4-20171019_COBCRP-4-20171019, 6 of 6    "
     ]
    },
    {
     "name": "stderr",
     "output_type": "stream",
     "text": [
      "Starting OTN QC\n",
      "\n",
      "A69-9001-23379_COBCRP-4-20171019_COBCRP-4-20171019\n",
      "\n",
      "WARNING: No shapefile supplied. Some tests may not run.\n",
      "\n",
      "Conversion done.\n",
      "\n",
      "The filter identified 1 (100%) of 1 detections as potentially false.\n",
      "\n",
      "The filter identified 0 (0%) of 95 detections as potentially false.\n",
      "\n",
      "Dist/velocity tests done.\n",
      "\n",
      "Necessary columns present.\n",
      "\n",
      "distGeo done.\n",
      "\n",
      "transmitter_deployment_datetime column exists.\n",
      "\n"
     ]
    },
    {
     "name": "stdout",
     "output_type": "stream",
     "text": [
      "[1] \"Running detection QC\"\n"
     ]
    },
    {
     "name": "stderr",
     "output_type": "stream",
     "text": [
      "Using percentage aggregation\n",
      "\n",
      "Done and returning\n",
      "\n"
     ]
    },
    {
     "name": "stdout",
     "output_type": "stream",
     "text": [
      "\n"
     ]
    },
    {
     "name": "stderr",
     "output_type": "stream",
     "text": [
      "\n",
      " Please see QC_logfile.txt for potential data, metadata issues and/or QC error messages\n",
      "\n",
      "\n",
      "Writing all QC output files...\n",
      "\n",
      "\n",
      "Writing `QCsummary.csv` file...\n",
      "\n",
      "\n",
      "Warning message:\n",
      "“\u001b[1m\u001b[22mThere was 1 warning in `mutate()`.\n",
      "\u001b[1m\u001b[22m\u001b[36mℹ\u001b[39m In argument: `detection_datetime = ymd_hms(detection_datetime)`.\n",
      "Caused by warning:\n",
      "\u001b[33m!\u001b[39m  2 failed to parse.”\n"
     ]
    }
   ],
   "source": [
    "otn_test_tag_qc <- runQC(otn_files, \n",
    "                         data_format = \"otn\", \n",
    "                         tests_vector = tests_vector, \n",
    "                         #shapefile = sps1Poly[[1]], \n",
    "                         col_spec = NULL, \n",
    "                         fda_type = \"pincock\", \n",
    "                         rollup = TRUE,\n",
    "                         .parallel = FALSE, .progress = TRUE)"
   ]
  },
  {
   "cell_type": "code",
   "execution_count": null,
   "id": "af0418dd",
   "metadata": {},
   "outputs": [],
   "source": [
    "otn_test_tag_qc"
   ]
  },
  {
   "cell_type": "code",
   "execution_count": null,
   "id": "a10294ff",
   "metadata": {},
   "outputs": [],
   "source": [
    "write.csv(otn_test_tag_qc, \"notebook_output_test.csv\")"
   ]
  },
  {
   "cell_type": "code",
   "execution_count": null,
   "id": "194507ee",
   "metadata": {},
   "outputs": [],
   "source": [
    "writeQC(otn_test_tag_qc, aggregate = TRUE)"
   ]
  },
  {
   "cell_type": "code",
   "execution_count": null,
   "id": "5e02c753",
   "metadata": {},
   "outputs": [],
   "source": []
  },
  {
   "cell_type": "code",
   "execution_count": null,
   "id": "286b67d0",
   "metadata": {},
   "outputs": [],
   "source": []
  }
 ],
 "metadata": {
  "kernelspec": {
   "display_name": "R",
   "language": "R",
   "name": "ir"
  },
  "language_info": {
   "codemirror_mode": "r",
   "file_extension": ".r",
   "mimetype": "text/x-r-source",
   "name": "R",
   "pygments_lexer": "r",
   "version": "4.2.2"
  }
 },
 "nbformat": 4,
 "nbformat_minor": 5
}
