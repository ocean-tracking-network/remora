{
 "cells": [
  {
   "cell_type": "code",
   "execution_count": 7,
   "id": "a52f83c5",
   "metadata": {},
   "outputs": [
    {
     "name": "stderr",
     "output_type": "stream",
     "text": [
      "Downloading GitHub repo ocean-tracking-network/remora@HEAD\n",
      "\n"
     ]
    },
    {
     "name": "stdout",
     "output_type": "stream",
     "text": [
      "\u001b[32m✔\u001b[39m  \u001b[90mchecking for file ‘/private/var/folders/k9/ks9pmd_17kgdvnmlzg6hdcph0000gn/T/RtmpcM4RFx/remotes2e5434d55abf/ocean-tracking-network-remora-6092a0d/DESCRIPTION’\u001b[39m\u001b[36m\u001b[39m\n",
      "\u001b[90m─\u001b[39m\u001b[90m  \u001b[39m\u001b[90mpreparing ‘remora’:\u001b[39m\u001b[36m\u001b[39m\n",
      "\u001b[32m✔\u001b[39m  \u001b[90mchecking DESCRIPTION meta-information\u001b[39m\u001b[36m\u001b[39m\n",
      "\u001b[90m─\u001b[39m\u001b[90m  \u001b[39m\u001b[90mchecking for LF line-endings in source and make files and shell scripts\u001b[39m\u001b[36m\u001b[39m\n",
      "\u001b[90m─\u001b[39m\u001b[90m  \u001b[39m\u001b[90mchecking for empty or unneeded directories\u001b[39m\u001b[36m\u001b[39m\n",
      "\u001b[90m─\u001b[39m\u001b[90m  \u001b[39m\u001b[90mbuilding ‘remora_0.9.0.9878.tar.gz’\u001b[39m\u001b[36m\u001b[39m\n",
      "   \n",
      "\r"
     ]
    }
   ],
   "source": [
    "devtools::install_github('ocean-tracking-network/remora', force=TRUE, dependencies = FALSE)"
   ]
  },
  {
   "cell_type": "code",
   "execution_count": 8,
   "id": "9b516baf",
   "metadata": {},
   "outputs": [
    {
     "name": "stderr",
     "output_type": "stream",
     "text": [
      "Downloading GitHub repo ocean-tracking-network/surimi@HEAD\n",
      "\n"
     ]
    },
    {
     "name": "stdout",
     "output_type": "stream",
     "text": [
      "\u001b[32m✔\u001b[39m  \u001b[90mchecking for file ‘/private/var/folders/k9/ks9pmd_17kgdvnmlzg6hdcph0000gn/T/RtmpcM4RFx/remotes2e547c3c49cc/ocean-tracking-network-surimi-68d980e/DESCRIPTION’\u001b[39m\u001b[36m\u001b[39m\n",
      "\u001b[90m─\u001b[39m\u001b[90m  \u001b[39m\u001b[90mpreparing ‘surimi’:\u001b[39m\u001b[36m\u001b[39m\n",
      "\u001b[32m✔\u001b[39m  \u001b[90mchecking DESCRIPTION meta-information\u001b[39m\u001b[36m\u001b[39m\n",
      "\u001b[90m─\u001b[39m\u001b[90m  \u001b[39m\u001b[90mchecking for LF line-endings in source and make files and shell scripts\u001b[39m\u001b[36m\u001b[39m\n",
      "\u001b[90m─\u001b[39m\u001b[90m  \u001b[39m\u001b[90mchecking for empty or unneeded directories\u001b[39m\u001b[36m\u001b[39m\n",
      "\u001b[90m─\u001b[39m\u001b[90m  \u001b[39m\u001b[90mbuilding ‘surimi_0.0.0.1.tar.gz’\u001b[39m\u001b[36m\u001b[39m\n",
      "   \n",
      "\r"
     ]
    }
   ],
   "source": [
    "devtools::install_github('ocean-tracking-network/surimi', force=TRUE, dependencies = FALSE)"
   ]
  },
  {
   "cell_type": "code",
   "execution_count": 9,
   "id": "646ac236",
   "metadata": {},
   "outputs": [],
   "source": [
    "library(parallel)\n",
    "library(surimi)\n",
    "library(readr)\n",
    "library(terra)\n",
    "library(tidyverse)\n",
    "library(sf)\n",
    "library(sp)\n",
    "library(raster)\n",
    "library(stars)\n",
    "library(glatos)\n",
    "library(utils)\n",
    "library(geosphere)\n",
    "library(rangeBuilder)\n",
    "library(remora)"
   ]
  },
  {
   "cell_type": "code",
   "execution_count": 10,
   "id": "aa1054f0",
   "metadata": {},
   "outputs": [],
   "source": [
    "otn_files <- list(det = \"testDataOTN/cobia/cobia_subset_export.csv\")"
   ]
  },
  {
   "cell_type": "code",
   "execution_count": 11,
   "id": "0ebee03e",
   "metadata": {},
   "outputs": [],
   "source": [
    "tests_vector <-  c(\"FDA_QC\",\n",
    "                   #\"Velocity_QC\",\n",
    "                   #\"Distance_QC\",\n",
    "                   #\"DetectionDistribution_QC\",\n",
    "                   \"DistanceRelease_QC\",\n",
    "                   \"ReleaseDate_QC\",\n",
    "                   #\"ReleaseLocation_QC\",\n",
    "                   \"Detection_QC\")"
   ]
  },
  {
   "cell_type": "code",
   "execution_count": 12,
   "id": "f22a3d09",
   "metadata": {},
   "outputs": [
    {
     "name": "stderr",
     "output_type": "stream",
     "text": [
      "Reading data...\n",
      "\n",
      "\u001b[1mRows: \u001b[22m\u001b[34m465\u001b[39m \u001b[1mColumns: \u001b[22m\u001b[34m34\u001b[39m\n",
      "\u001b[36m──\u001b[39m \u001b[1mColumn specification\u001b[22m \u001b[36m──────────────────────────────────────────────────────────────────────────────────────────────────────────────────────────────────────────────────────────────────────────────────────────────\u001b[39m\n",
      "\u001b[1mDelimiter:\u001b[22m \",\"\n",
      "\u001b[31mchr\u001b[39m  (20): collectioncode, catalognumber, scientificname, commonname, detect...\n",
      "\u001b[32mdbl\u001b[39m   (9): bottom_depth, receiver_depth, longitude, latitude, yearcollected,...\n",
      "\u001b[33mlgl\u001b[39m   (3): sensorraw, sensorvalue, sensorunit\n",
      "\u001b[34mdttm\u001b[39m  (1): datecollected\n",
      "\u001b[34mdate\u001b[39m  (1): datelastmodified\n",
      "\n",
      "\u001b[36mℹ\u001b[39m Use `spec()` to retrieve the full column specification for this data.\n",
      "\u001b[36mℹ\u001b[39m Specify the column types or set `show_col_types = FALSE` to quiet this message.\n",
      "Deriving receiver dataframe...\n",
      "\n",
      "Deriving tag dataframe...\n",
      "\n",
      "Number of releases:\n",
      "\n",
      "2\n",
      "\n",
      "Warning message:\n",
      "“No missing IDs found in tag metadata.”\n",
      "rec_meta is not null\n",
      "\n"
     ]
    },
    {
     "ename": "ERROR",
     "evalue": "\u001b[1m\u001b[33mError\u001b[39m in `dplyr::select()`:\u001b[22m\n\u001b[33m!\u001b[39m Can't select columns that don't exist.\n\u001b[31m✖\u001b[39m Column `receiver_id` doesn't exist.\n",
     "output_type": "error",
     "traceback": [
      "\u001b[1m\u001b[33mError\u001b[39m in `dplyr::select()`:\u001b[22m\n\u001b[33m!\u001b[39m Can't select columns that don't exist.\n\u001b[31m✖\u001b[39m Column `receiver_id` doesn't exist.\nTraceback:\n",
      "1. runQC(otn_files, data_format = \"otn\", tests_vector = tests_vector, \n .     col_spec = NULL, fda_type = \"pincock\", .parallel = FALSE, \n .     .progress = TRUE)",
      "2. get_data_arbitrary(det = x$det, rmeta = x$rmeta, tmeta = x$tmeta, \n .     meas = x$meas, logfile = logfile, data_format = \"otn\", col_spec = col_spec)   # at line 32-40 of file ",
      "3. left_join(det_data, rec_meta, by = \"receiver_deployment_id\") %>% \n .     dplyr::select(transmitter_id, tag_id, transmitter_deployment_id, \n .         tagging_project_name, species_common_name, species_scientific_name, \n .         CAAB_species_id = ifelse(\"CAAB_species_id\" %in% names(det_data), \n .             \"CAAB_species_id\", \"species_id\"), WORMS_species_aphia_id = ifelse(\"WORMS_species_aphia_id\" %in% \n .             names(det_data), \"WORMS_species_aphia_id\", \"species_aphia_id\"), \n .         animal_sex, detection_datetime, longitude = receiver_deployment_longitude.x, \n .         latitude = receiver_deployment_latitude.x, receiver_project_name = receiver_project_name.x, \n .         installation_name = installation_name.x, station_name = station_name.x, \n .         receiver_name = receiver_name.x, receiver_id, receiver_deployment_id, \n .         receiver_depth = depth_below_surface, purchasing_organisation, \n .         receiver_status, receiver_deployment_datetime, receiver_recovery_datetime, \n .         receiver_recovery_longitude, receiver_recovery_latitude, \n .         everything()) %>% dplyr::select(-receiver_name.y, -receiver_project_name.y, \n .     -installation_name.y, -station_name.y, -receiver_deployment_longitude.y, \n .     -receiver_deployment_latitude.y)   # at line 157-197 of file ",
      "4. dplyr::select(., -receiver_name.y, -receiver_project_name.y, \n .     -installation_name.y, -station_name.y, -receiver_deployment_longitude.y, \n .     -receiver_deployment_latitude.y)",
      "5. dplyr::select(., transmitter_id, tag_id, transmitter_deployment_id, \n .     tagging_project_name, species_common_name, species_scientific_name, \n .     CAAB_species_id = ifelse(\"CAAB_species_id\" %in% names(det_data), \n .         \"CAAB_species_id\", \"species_id\"), WORMS_species_aphia_id = ifelse(\"WORMS_species_aphia_id\" %in% \n .         names(det_data), \"WORMS_species_aphia_id\", \"species_aphia_id\"), \n .     animal_sex, detection_datetime, longitude = receiver_deployment_longitude.x, \n .     latitude = receiver_deployment_latitude.x, receiver_project_name = receiver_project_name.x, \n .     installation_name = installation_name.x, station_name = station_name.x, \n .     receiver_name = receiver_name.x, receiver_id, receiver_deployment_id, \n .     receiver_depth = depth_below_surface, purchasing_organisation, \n .     receiver_status, receiver_deployment_datetime, receiver_recovery_datetime, \n .     receiver_recovery_longitude, receiver_recovery_latitude, \n .     everything())",
      "6. select.data.frame(., transmitter_id, tag_id, transmitter_deployment_id, \n .     tagging_project_name, species_common_name, species_scientific_name, \n .     CAAB_species_id = ifelse(\"CAAB_species_id\" %in% names(det_data), \n .         \"CAAB_species_id\", \"species_id\"), WORMS_species_aphia_id = ifelse(\"WORMS_species_aphia_id\" %in% \n .         names(det_data), \"WORMS_species_aphia_id\", \"species_aphia_id\"), \n .     animal_sex, detection_datetime, longitude = receiver_deployment_longitude.x, \n .     latitude = receiver_deployment_latitude.x, receiver_project_name = receiver_project_name.x, \n .     installation_name = installation_name.x, station_name = station_name.x, \n .     receiver_name = receiver_name.x, receiver_id, receiver_deployment_id, \n .     receiver_depth = depth_below_surface, purchasing_organisation, \n .     receiver_status, receiver_deployment_datetime, receiver_recovery_datetime, \n .     receiver_recovery_longitude, receiver_recovery_latitude, \n .     everything())",
      "7. tidyselect::eval_select(expr(c(...)), data = .data, error_call = error_call)",
      "8. eval_select_impl(data, names(data), as_quosure(expr, env), include = include, \n .     exclude = exclude, strict = strict, name_spec = name_spec, \n .     allow_rename = allow_rename, allow_empty = allow_empty, allow_predicates = allow_predicates, \n .     error_call = error_call, )",
      "9. with_subscript_errors(out <- vars_select_eval(vars, expr, strict = strict, \n .     data = x, name_spec = name_spec, uniquely_named = uniquely_named, \n .     allow_rename = allow_rename, allow_empty = allow_empty, allow_predicates = allow_predicates, \n .     type = type, error_call = error_call), type = type)",
      "10. withCallingHandlers(expr, vctrs_error_subscript = function(cnd) {\n  .     cnd$subscript_action <- subscript_action(type)\n  .     cnd$subscript_elt <- \"column\"\n  .     cnd_signal(cnd)\n  . })",
      "11. vars_select_eval(vars, expr, strict = strict, data = x, name_spec = name_spec, \n  .     uniquely_named = uniquely_named, allow_rename = allow_rename, \n  .     allow_empty = allow_empty, allow_predicates = allow_predicates, \n  .     type = type, error_call = error_call)",
      "12. walk_data_tree(expr, data_mask, context_mask)",
      "13. eval_c(expr, data_mask, context_mask)",
      "14. reduce_sels(node, data_mask, context_mask, init = init)",
      "15. walk_data_tree(new, data_mask, context_mask)",
      "16. as_indices_sel_impl(out, vars = vars, strict = strict, data = data, \n  .     allow_predicates = allow_predicates, call = error_call, arg = as_label(expr))",
      "17. as_indices_impl(x, vars, call = call, arg = arg, strict = strict)",
      "18. chr_as_locations(x, vars, call = call, arg = arg)",
      "19. vctrs::vec_as_location(x, n = length(vars), names = vars, call = call, \n  .     arg = arg)",
      "20. (function () \n  . stop_subscript_oob(i = i, subscript_type = subscript_type, names = names, \n  .     subscript_action = subscript_action, subscript_arg = subscript_arg, \n  .     call = call))()",
      "21. stop_subscript_oob(i = i, subscript_type = subscript_type, names = names, \n  .     subscript_action = subscript_action, subscript_arg = subscript_arg, \n  .     call = call)",
      "22. stop_subscript(class = \"vctrs_error_subscript_oob\", i = i, subscript_type = subscript_type, \n  .     ..., call = call)",
      "23. abort(class = c(class, \"vctrs_error_subscript\"), i = i, ..., \n  .     call = call)",
      "24. signal_abort(cnd, .file)",
      "25. signalCondition(cnd)",
      "26. (function (cnd) \n  . {\n  .     cnd$subscript_action <- subscript_action(type)\n  .     cnd$subscript_elt <- \"column\"\n  .     cnd_signal(cnd)\n  . })(structure(list(message = \"\", trace = structure(list(call = list(\n  .     IRkernel::main(), kernel$run(), handle_shell(), executor$execute(msg), \n  .     tryCatch(evaluate(request$content$code, envir = .GlobalEnv, \n  .         output_handler = oh, stop_on_error = 1L), interrupt = function(cond) {\n  .         log_debug(\"Interrupt during execution\")\n  .         interrupted <<- TRUE\n  .     }, error = .self$handle_error), tryCatchList(expr, classes, \n  .         parentenv, handlers), tryCatchOne(tryCatchList(expr, \n  .         names[-nh], parentenv, handlers[-nh]), names[nh], parentenv, \n  .         handlers[[nh]]), doTryCatch(return(expr), name, parentenv, \n  .         handler), tryCatchList(expr, names[-nh], parentenv, handlers[-nh]), \n  .     tryCatchOne(expr, names, parentenv, handlers[[1L]]), doTryCatch(return(expr), \n  .         name, parentenv, handler), evaluate(request$content$code, \n  .         envir = .GlobalEnv, output_handler = oh, stop_on_error = 1L), \n  .     evaluate_call(expr, parsed$src[[i]], envir = envir, enclos = enclos, \n  .         debug = debug, last = i == length(out), use_try = stop_on_error != \n  .             2L, keep_warning = keep_warning, keep_message = keep_message, \n  .         log_echo = log_echo, log_warning = log_warning, output_handler = output_handler, \n  .         include_timing = include_timing), timing_fn(handle(ev <- withCallingHandlers(withVisible(eval_with_user_handlers(expr, \n  .         envir, enclos, user_handlers)), warning = wHandler, error = eHandler, \n  .         message = mHandler))), handle(ev <- withCallingHandlers(withVisible(eval_with_user_handlers(expr, \n  .         envir, enclos, user_handlers)), warning = wHandler, error = eHandler, \n  .         message = mHandler)), try(f, silent = TRUE), tryCatch(expr, \n  .         error = function(e) {\n  .             call <- conditionCall(e)\n  .             if (!is.null(call)) {\n  .                 if (identical(call[[1L]], quote(doTryCatch))) \n  .                   call <- sys.call(-4L)\n  .                 dcall <- deparse(call, nlines = 1L)\n  .                 prefix <- paste(\"Error in\", dcall, \": \")\n  .                 LONG <- 75L\n  .                 sm <- strsplit(conditionMessage(e), \"\\n\")[[1L]]\n  .                 w <- 14L + nchar(dcall, type = \"w\") + nchar(sm[1L], \n  .                   type = \"w\")\n  .                 if (is.na(w)) \n  .                   w <- 14L + nchar(dcall, type = \"b\") + nchar(sm[1L], \n  .                     type = \"b\")\n  .                 if (w > LONG) \n  .                   prefix <- paste0(prefix, \"\\n  \")\n  .             }\n  .             else prefix <- \"Error : \"\n  .             msg <- paste0(prefix, conditionMessage(e), \"\\n\")\n  .             .Internal(seterrmessage(msg[1L]))\n  .             if (!silent && isTRUE(getOption(\"show.error.messages\"))) {\n  .                 cat(msg, file = outFile)\n  .                 .Internal(printDeferredWarnings())\n  .             }\n  .             invisible(structure(msg, class = \"try-error\", condition = e))\n  .         }), tryCatchList(expr, classes, parentenv, handlers), \n  .     tryCatchOne(expr, names, parentenv, handlers[[1L]]), doTryCatch(return(expr), \n  .         name, parentenv, handler), withCallingHandlers(withVisible(eval_with_user_handlers(expr, \n  .         envir, enclos, user_handlers)), warning = wHandler, error = eHandler, \n  .         message = mHandler), withVisible(eval_with_user_handlers(expr, \n  .         envir, enclos, user_handlers)), eval_with_user_handlers(expr, \n  .         envir, enclos, user_handlers), eval(expr, envir, enclos), \n  .     eval(expr, envir, enclos), runQC(otn_files, data_format = \"otn\", \n  .         tests_vector = tests_vector, col_spec = NULL, fda_type = \"pincock\", \n  .         .parallel = FALSE, .progress = TRUE), get_data_arbitrary(det = x$det, \n  .         rmeta = x$rmeta, tmeta = x$tmeta, meas = x$meas, logfile = logfile, \n  .         data_format = \"otn\", col_spec = col_spec), left_join(det_data, \n  .         rec_meta, by = \"receiver_deployment_id\") %>% dplyr::select(transmitter_id, \n  .         tag_id, transmitter_deployment_id, tagging_project_name, \n  .         species_common_name, species_scientific_name, CAAB_species_id = ifelse(\"CAAB_species_id\" %in% \n  .             names(det_data), \"CAAB_species_id\", \"species_id\"), \n  .         WORMS_species_aphia_id = ifelse(\"WORMS_species_aphia_id\" %in% \n  .             names(det_data), \"WORMS_species_aphia_id\", \"species_aphia_id\"), \n  .         animal_sex, detection_datetime, longitude = receiver_deployment_longitude.x, \n  .         latitude = receiver_deployment_latitude.x, receiver_project_name = receiver_project_name.x, \n  .         installation_name = installation_name.x, station_name = station_name.x, \n  .         receiver_name = receiver_name.x, receiver_id, receiver_deployment_id, \n  .         receiver_depth = depth_below_surface, purchasing_organisation, \n  .         receiver_status, receiver_deployment_datetime, receiver_recovery_datetime, \n  .         receiver_recovery_longitude, receiver_recovery_latitude, \n  .         everything()) %>% dplyr::select(-receiver_name.y, -receiver_project_name.y, \n  .         -installation_name.y, -station_name.y, -receiver_deployment_longitude.y, \n  .         -receiver_deployment_latitude.y), dplyr::select(., -receiver_name.y, \n  .         -receiver_project_name.y, -installation_name.y, -station_name.y, \n  .         -receiver_deployment_longitude.y, -receiver_deployment_latitude.y), \n  .     dplyr::select(., transmitter_id, tag_id, transmitter_deployment_id, \n  .         tagging_project_name, species_common_name, species_scientific_name, \n  .         CAAB_species_id = ifelse(\"CAAB_species_id\" %in% names(det_data), \n  .             \"CAAB_species_id\", \"species_id\"), WORMS_species_aphia_id = ifelse(\"WORMS_species_aphia_id\" %in% \n  .             names(det_data), \"WORMS_species_aphia_id\", \"species_aphia_id\"), \n  .         animal_sex, detection_datetime, longitude = receiver_deployment_longitude.x, \n  .         latitude = receiver_deployment_latitude.x, receiver_project_name = receiver_project_name.x, \n  .         installation_name = installation_name.x, station_name = station_name.x, \n  .         receiver_name = receiver_name.x, receiver_id, receiver_deployment_id, \n  .         receiver_depth = depth_below_surface, purchasing_organisation, \n  .         receiver_status, receiver_deployment_datetime, receiver_recovery_datetime, \n  .         receiver_recovery_longitude, receiver_recovery_latitude, \n  .         everything()), select.data.frame(., transmitter_id, tag_id, \n  .         transmitter_deployment_id, tagging_project_name, species_common_name, \n  .         species_scientific_name, CAAB_species_id = ifelse(\"CAAB_species_id\" %in% \n  .             names(det_data), \"CAAB_species_id\", \"species_id\"), \n  .         WORMS_species_aphia_id = ifelse(\"WORMS_species_aphia_id\" %in% \n  .             names(det_data), \"WORMS_species_aphia_id\", \"species_aphia_id\"), \n  .         animal_sex, detection_datetime, longitude = receiver_deployment_longitude.x, \n  .         latitude = receiver_deployment_latitude.x, receiver_project_name = receiver_project_name.x, \n  .         installation_name = installation_name.x, station_name = station_name.x, \n  .         receiver_name = receiver_name.x, receiver_id, receiver_deployment_id, \n  .         receiver_depth = depth_below_surface, purchasing_organisation, \n  .         receiver_status, receiver_deployment_datetime, receiver_recovery_datetime, \n  .         receiver_recovery_longitude, receiver_recovery_latitude, \n  .         everything()), tidyselect::eval_select(expr(c(...)), \n  .         data = .data, error_call = error_call), eval_select_impl(data, \n  .         names(data), as_quosure(expr, env), include = include, \n  .         exclude = exclude, strict = strict, name_spec = name_spec, \n  .         allow_rename = allow_rename, allow_empty = allow_empty, \n  .         allow_predicates = allow_predicates, error_call = error_call, \n  .         ), with_subscript_errors(out <- vars_select_eval(vars, \n  .         expr, strict = strict, data = x, name_spec = name_spec, \n  .         uniquely_named = uniquely_named, allow_rename = allow_rename, \n  .         allow_empty = allow_empty, allow_predicates = allow_predicates, \n  .         type = type, error_call = error_call), type = type), \n  .     withCallingHandlers(expr, vctrs_error_subscript = function(cnd) {\n  .         cnd$subscript_action <- subscript_action(type)\n  .         cnd$subscript_elt <- \"column\"\n  .         cnd_signal(cnd)\n  .     }), vars_select_eval(vars, expr, strict = strict, data = x, \n  .         name_spec = name_spec, uniquely_named = uniquely_named, \n  .         allow_rename = allow_rename, allow_empty = allow_empty, \n  .         allow_predicates = allow_predicates, type = type, error_call = error_call), \n  .     walk_data_tree(expr, data_mask, context_mask), eval_c(expr, \n  .         data_mask, context_mask), reduce_sels(node, data_mask, \n  .         context_mask, init = init), walk_data_tree(new, data_mask, \n  .         context_mask), as_indices_sel_impl(out, vars = vars, \n  .         strict = strict, data = data, allow_predicates = allow_predicates, \n  .         call = error_call, arg = as_label(expr)), as_indices_impl(x, \n  .         vars, call = call, arg = arg, strict = strict), chr_as_locations(x, \n  .         vars, call = call, arg = arg), vctrs::vec_as_location(x, \n  .         n = length(vars), names = vars, call = call, arg = arg), \n  .     `<fn>`(), stop_subscript_oob(i = i, subscript_type = subscript_type, \n  .         names = names, subscript_action = subscript_action, subscript_arg = subscript_arg, \n  .         call = call), stop_subscript(class = \"vctrs_error_subscript_oob\", \n  .         i = i, subscript_type = subscript_type, ..., call = call), \n  .     abort(class = c(class, \"vctrs_error_subscript\"), i = i, ..., \n  .         call = call)), parent = c(0L, 1L, 2L, 3L, 4L, 5L, 6L, \n  . 7L, 6L, 9L, 10L, 4L, 12L, 13L, 13L, 15L, 16L, 17L, 18L, 19L, \n  . 13L, 13L, 13L, 23L, 24L, 0L, 26L, 27L, 0L, 0L, 0L, 31L, 32L, \n  . 33L, 34L, 33L, 36L, 37L, 38L, 39L, 40L, 41L, 42L, 43L, 0L, 45L, \n  . 46L, 47L), visible = c(TRUE, TRUE, TRUE, TRUE, TRUE, TRUE, TRUE, \n  . TRUE, TRUE, TRUE, TRUE, TRUE, TRUE, TRUE, TRUE, TRUE, TRUE, TRUE, \n  . TRUE, TRUE, TRUE, TRUE, TRUE, TRUE, TRUE, TRUE, TRUE, TRUE, TRUE, \n  . TRUE, TRUE, FALSE, FALSE, FALSE, FALSE, FALSE, FALSE, FALSE, \n  . FALSE, FALSE, FALSE, FALSE, FALSE, FALSE, FALSE, FALSE, FALSE, \n  . FALSE), namespace = c(\"IRkernel\", NA, \"IRkernel\", NA, \"base\", \n  . \"base\", \"base\", \"base\", \"base\", \"base\", \"base\", \"evaluate\", \"evaluate\", \n  . \"evaluate\", \"evaluate\", \"base\", \"base\", \"base\", \"base\", \"base\", \n  . \"base\", \"base\", \"evaluate\", \"base\", \"base\", NA, NA, NA, \"dplyr\", \n  . \"dplyr\", \"dplyr\", \"tidyselect\", \"tidyselect\", \"tidyselect\", \"base\", \n  . \"tidyselect\", \"tidyselect\", \"tidyselect\", \"tidyselect\", \"tidyselect\", \n  . \"tidyselect\", \"tidyselect\", \"tidyselect\", \"vctrs\", \"vctrs\", \"vctrs\", \n  . \"vctrs\", \"rlang\"), scope = c(\"::\", NA, \"local\", NA, \"::\", \"local\", \n  . \"local\", \"local\", \"local\", \"local\", \"local\", \"::\", \":::\", \"local\", \n  . \"local\", \"::\", \"::\", \"local\", \"local\", \"local\", \"::\", \"::\", \":::\", \n  . \"::\", \"::\", \"global\", \"global\", NA, \"::\", \"::\", \":::\", \"::\", \n  . \":::\", \":::\", \"::\", \":::\", \":::\", \":::\", \":::\", \":::\", \":::\", \n  . \":::\", \":::\", \"::\", \"local\", \":::\", \":::\", \"::\"), error_frame = c(FALSE, \n  . FALSE, FALSE, FALSE, FALSE, FALSE, FALSE, FALSE, FALSE, FALSE, \n  . FALSE, FALSE, FALSE, FALSE, FALSE, FALSE, FALSE, FALSE, FALSE, \n  . FALSE, FALSE, FALSE, FALSE, FALSE, FALSE, FALSE, FALSE, FALSE, \n  . FALSE, FALSE, TRUE, FALSE, FALSE, FALSE, FALSE, FALSE, FALSE, \n  . FALSE, FALSE, FALSE, FALSE, FALSE, FALSE, FALSE, FALSE, FALSE, \n  . FALSE, FALSE)), row.names = c(NA, -48L), version = 2L, class = c(\"rlang_trace\", \n  . \"rlib_trace\", \"tbl\", \"data.frame\")), parent = NULL, i = \"receiver_id\", \n  .     subscript_type = \"character\", names = c(\"detection_datetime\", \n  .     \"tag_id\", \"transmitter_id\", \"tagging_project_name\", \"species_common_name\", \n  .     \"species_scientific_name\", \"detectedby\", \"receiver_deployment_id\", \n  .     \"installation_name.x\", \"station_name.x\", \"receiver_id.x\", \n  .     \"sensortype\", \"sensorvalue\", \"sensorunit\", \"receiver_deployment_longitude.x\", \n  .     \"receiver_deployment_latitude.x\", \"yearcollected\", \"monthcollected\", \n  .     \"daycollected\", \"cleandate\", \"CAAB_species_id\", \"WORMS_species_aphia_id\", \n  .     \"animal_sex\", \"receiver_name.x\", \"receiver_project_name.x\", \n  .     \"transmitter_serial_number\", \"transmitter_type\", \"transmitter_sensor_type\", \n  .     \"transmitter_sensor_slope\", \"transmitter_sensor_intercept\", \n  .     \"transmitter_sensor_unit\", \"transmitter_status\", \"transmitter_estimated_battery_life\", \n  .     \"transmitter_sensor_raw_value\", \"embargo_date\", \"transmitter_deployment_latitude\", \n  .     \"transmitter_deployment_longitude\", \"transmitter_deployment_datetime\", \n  .     \"transmitter_deployment_id\", \"installation_name.y\", \"station_name.y\", \n  .     \"receiver_name.y\", \"depth_below_surface\", \"receiver_deployment_longitude.y\", \n  .     \"receiver_deployment_latitude.y\", \"receiver_project_name.y\", \n  .     \"minDetectionDate\", \"maxDetectionDate\", \"receiver_id.y\", \n  .     \"purchasing_organisation\", \"receiver_status\", \"receiver_deployment_datetime\", \n  .     \"receiver_recovery_datetime\", \"receiver_recovery_longitude\", \n  .     \"receiver_recovery_latitude\"), subscript_action = NULL, subscript_arg = \"receiver_id\", \n  .     rlang = list(inherit = TRUE), call = dplyr::select(., transmitter_id, \n  .         tag_id, transmitter_deployment_id, tagging_project_name, \n  .         species_common_name, species_scientific_name, CAAB_species_id = ifelse(\"CAAB_species_id\" %in% \n  .             names(det_data), \"CAAB_species_id\", \"species_id\"), \n  .         WORMS_species_aphia_id = ifelse(\"WORMS_species_aphia_id\" %in% \n  .             names(det_data), \"WORMS_species_aphia_id\", \"species_aphia_id\"), \n  .         animal_sex, detection_datetime, longitude = receiver_deployment_longitude.x, \n  .         latitude = receiver_deployment_latitude.x, receiver_project_name = receiver_project_name.x, \n  .         installation_name = installation_name.x, station_name = station_name.x, \n  .         receiver_name = receiver_name.x, receiver_id, receiver_deployment_id, \n  .         receiver_depth = depth_below_surface, purchasing_organisation, \n  .         receiver_status, receiver_deployment_datetime, receiver_recovery_datetime, \n  .         receiver_recovery_longitude, receiver_recovery_latitude, \n  .         everything())), class = c(\"vctrs_error_subscript_oob\", \n  . \"vctrs_error_subscript\", \"rlang_error\", \"error\", \"condition\")))",
      "27. cnd_signal(cnd)",
      "28. signal_abort(cnd)"
     ]
    }
   ],
   "source": [
    "otn_test_tag_qc <- runQC(otn_files, \n",
    "                         data_format = \"otn\", \n",
    "                         tests_vector = tests_vector, \n",
    "                         #shapefile = sps1Poly[[1]], \n",
    "                         col_spec = NULL, \n",
    "                         fda_type = \"pincock\", \n",
    "                         .parallel = FALSE, .progress = TRUE)"
   ]
  },
  {
   "cell_type": "code",
   "execution_count": 13,
   "id": "fab779a8",
   "metadata": {},
   "outputs": [
    {
     "data": {
      "text/plain": [
       "               _                           \n",
       "platform       x86_64-apple-darwin17.0     \n",
       "arch           x86_64                      \n",
       "os             darwin17.0                  \n",
       "system         x86_64, darwin17.0          \n",
       "status                                     \n",
       "major          4                           \n",
       "minor          2.2                         \n",
       "year           2022                        \n",
       "month          10                          \n",
       "day            31                          \n",
       "svn rev        83211                       \n",
       "language       R                           \n",
       "version.string R version 4.2.2 (2022-10-31)\n",
       "nickname       Innocent and Trusting       "
      ]
     },
     "metadata": {},
     "output_type": "display_data"
    }
   ],
   "source": [
    "version"
   ]
  },
  {
   "cell_type": "code",
   "execution_count": 19,
   "id": "5e02d5c9",
   "metadata": {},
   "outputs": [
    {
     "name": "stdout",
     "output_type": "stream",
     "text": [
      "\n",
      "The downloaded binary packages are in\n",
      "\t/var/folders/k9/ks9pmd_17kgdvnmlzg6hdcph0000gn/T//RtmpcM4RFx/downloaded_packages\n"
     ]
    }
   ],
   "source": [
    "install.packages(\"installr\")"
   ]
  },
  {
   "cell_type": "code",
   "execution_count": 20,
   "id": "9b84d006",
   "metadata": {},
   "outputs": [
    {
     "name": "stderr",
     "output_type": "stream",
     "text": [
      "\n",
      "Welcome to installr version 0.23.4\n",
      "\n",
      "More information is available on the installr project website:\n",
      "https://github.com/talgalili/installr/\n",
      "\n",
      "Contact: <tal.galili@gmail.com>\n",
      "Suggestions and bug-reports can be submitted at: https://github.com/talgalili/installr/issues\n",
      "\n",
      "\t\t\tTo suppress this message use:\n",
      "\t\t\tsuppressPackageStartupMessages(library(installr))\n",
      "\n",
      "\n",
      "\n",
      "Attaching package: ‘installr’\n",
      "\n",
      "\n",
      "The following object is masked from ‘package:terra’:\n",
      "\n",
      "    is.empty\n",
      "\n",
      "\n"
     ]
    }
   ],
   "source": [
    "library(installr)"
   ]
  },
  {
   "cell_type": "code",
   "execution_count": 22,
   "id": "cb04204a",
   "metadata": {},
   "outputs": [
    {
     "ename": "ERROR",
     "evalue": "Error in shell(\"echo %PATH% \", intern = TRUE): could not find function \"shell\"\n",
     "output_type": "error",
     "traceback": [
      "Error in shell(\"echo %PATH% \", intern = TRUE): could not find function \"shell\"\nTraceback:\n",
      "1. system.PATH()",
      "2. strsplit(shell(\"echo %PATH% \", intern = TRUE), \";\")"
     ]
    }
   ],
   "source": [
    "system.PATH()"
   ]
  },
  {
   "cell_type": "code",
   "execution_count": null,
   "id": "731b93e8",
   "metadata": {},
   "outputs": [],
   "source": []
  }
 ],
 "metadata": {
  "kernelspec": {
   "display_name": "R",
   "language": "R",
   "name": "ir"
  },
  "language_info": {
   "codemirror_mode": "r",
   "file_extension": ".r",
   "mimetype": "text/x-r-source",
   "name": "R",
   "pygments_lexer": "r",
   "version": "4.2.2"
  }
 },
 "nbformat": 4,
 "nbformat_minor": 5
}
